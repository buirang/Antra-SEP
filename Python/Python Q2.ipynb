{
 "cells": [
  {
   "cell_type": "code",
   "execution_count": 14,
   "id": "095e7770",
   "metadata": {},
   "outputs": [
    {
     "name": "stdout",
     "output_type": "stream",
     "text": [
      "9995\n",
      "8\n"
     ]
    }
   ],
   "source": [
    "import json\n",
    "#import path here \n",
    "with open('movie.json','r', encoding='utf-8') as f1:\n",
    "    json_split = json.load(f1)\n",
    "    print(len(json_split['movie'])) \n",
    "    \n",
    "    #in here 9995 means we getting splits of 9995 movies in to 8 files \n",
    "    #means 1249 movies per file\n",
    "    size_of_the_split = 1249\n",
    "    total = len(json_split['movie'])//size_of_the_split\n",
    "    \n",
    "    print(total) #number of splits 8\n",
    "    \n",
    "    for i in range(total):\n",
    "        json.dump(json_split['movie'][i*size_of_the_split:(i+1)*size_of_the_split], open('Json_Split' + str(i+1) + '.json','w',encoding= 'utf8'), ensure_ascii=False, indent= True)\n",
    "    \n",
    "    \n",
    "   "
   ]
  },
  {
   "cell_type": "code",
   "execution_count": null,
   "id": "448e238d",
   "metadata": {},
   "outputs": [],
   "source": []
  }
 ],
 "metadata": {
  "kernelspec": {
   "display_name": "Python 3 (ipykernel)",
   "language": "python",
   "name": "python3"
  },
  "language_info": {
   "codemirror_mode": {
    "name": "ipython",
    "version": 3
   },
   "file_extension": ".py",
   "mimetype": "text/x-python",
   "name": "python",
   "nbconvert_exporter": "python",
   "pygments_lexer": "ipython3",
   "version": "3.9.12"
  }
 },
 "nbformat": 4,
 "nbformat_minor": 5
}
