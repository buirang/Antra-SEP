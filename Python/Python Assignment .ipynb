{
 "cells": [
  {
   "cell_type": "code",
   "execution_count": 2,
   "id": "5f4c570d",
   "metadata": {
    "scrolled": true
   },
   "outputs": [
    {
     "data": {
      "text/html": [
       "<div>\n",
       "<style scoped>\n",
       "    .dataframe tbody tr th:only-of-type {\n",
       "        vertical-align: middle;\n",
       "    }\n",
       "\n",
       "    .dataframe tbody tr th {\n",
       "        vertical-align: top;\n",
       "    }\n",
       "\n",
       "    .dataframe thead th {\n",
       "        text-align: right;\n",
       "    }\n",
       "</style>\n",
       "<table border=\"1\" class=\"dataframe\">\n",
       "  <thead>\n",
       "    <tr style=\"text-align: right;\">\n",
       "      <th></th>\n",
       "      <th>FirstName</th>\n",
       "      <th>LastName</th>\n",
       "      <th>Email</th>\n",
       "      <th>Phone</th>\n",
       "      <th>Address</th>\n",
       "    </tr>\n",
       "  </thead>\n",
       "  <tbody>\n",
       "    <tr>\n",
       "      <th>0</th>\n",
       "      <td>Matthew</td>\n",
       "      <td>Williams</td>\n",
       "      <td>Matthew.Williams@email.com</td>\n",
       "      <td>053-278-8309</td>\n",
       "      <td>No.0532 Williams Lane</td>\n",
       "    </tr>\n",
       "    <tr>\n",
       "      <th>1</th>\n",
       "      <td>MATTHEW</td>\n",
       "      <td>WILLIAMS</td>\n",
       "      <td>Matthew.Williams@email.com</td>\n",
       "      <td>0532788309</td>\n",
       "      <td>#0532 Williams Lane</td>\n",
       "    </tr>\n",
       "    <tr>\n",
       "      <th>2</th>\n",
       "      <td>MATTHEW</td>\n",
       "      <td>williams</td>\n",
       "      <td>Matthew.Williams@email.com</td>\n",
       "      <td>0532788309</td>\n",
       "      <td>0532 Williams Lane</td>\n",
       "    </tr>\n",
       "    <tr>\n",
       "      <th>3</th>\n",
       "      <td>Louise</td>\n",
       "      <td>Rodriguez</td>\n",
       "      <td>Louise.Rodriguez@email.com</td>\n",
       "      <td>553-981-1593</td>\n",
       "      <td>No.5539 Rodriguez Lane</td>\n",
       "    </tr>\n",
       "    <tr>\n",
       "      <th>4</th>\n",
       "      <td>Charles</td>\n",
       "      <td>Smith</td>\n",
       "      <td>Charles.Smith@email.com</td>\n",
       "      <td>523-381-5730</td>\n",
       "      <td>No.5233 Smith Lane</td>\n",
       "    </tr>\n",
       "  </tbody>\n",
       "</table>\n",
       "</div>"
      ],
      "text/plain": [
       "  FirstName   LastName                        Email         Phone  \\\n",
       "0   Matthew   Williams   Matthew.Williams@email.com  053-278-8309   \n",
       "1   MATTHEW   WILLIAMS   Matthew.Williams@email.com    0532788309   \n",
       "2  MATTHEW    williams  Matthew.Williams@email.com     0532788309   \n",
       "3    Louise  Rodriguez   Louise.Rodriguez@email.com  553-981-1593   \n",
       "4   Charles      Smith      Charles.Smith@email.com  523-381-5730   \n",
       "\n",
       "                  Address  \n",
       "0   No.0532 Williams Lane  \n",
       "1     #0532 Williams Lane  \n",
       "2      0532 Williams Lane  \n",
       "3  No.5539 Rodriguez Lane  \n",
       "4      No.5233 Smith Lane  "
      ]
     },
     "execution_count": 2,
     "metadata": {},
     "output_type": "execute_result"
    }
   ],
   "source": [
    "# Q1\n",
    "import pandas as pd\n",
    "\n",
    "# open people_1\n",
    "People1 = pd.read_table('people_1.txt')\n",
    "People1.head()\n"
   ]
  },
  {
   "cell_type": "code",
   "execution_count": 3,
   "id": "ce39dd3b",
   "metadata": {},
   "outputs": [
    {
     "data": {
      "text/html": [
       "<div>\n",
       "<style scoped>\n",
       "    .dataframe tbody tr th:only-of-type {\n",
       "        vertical-align: middle;\n",
       "    }\n",
       "\n",
       "    .dataframe tbody tr th {\n",
       "        vertical-align: top;\n",
       "    }\n",
       "\n",
       "    .dataframe thead th {\n",
       "        text-align: right;\n",
       "    }\n",
       "</style>\n",
       "<table border=\"1\" class=\"dataframe\">\n",
       "  <thead>\n",
       "    <tr style=\"text-align: right;\">\n",
       "      <th></th>\n",
       "      <th>FirstName</th>\n",
       "      <th>LastName</th>\n",
       "      <th>Email</th>\n",
       "      <th>Phone</th>\n",
       "      <th>Address</th>\n",
       "    </tr>\n",
       "  </thead>\n",
       "  <tbody>\n",
       "    <tr>\n",
       "      <th>0</th>\n",
       "      <td>Charles</td>\n",
       "      <td>Jackson</td>\n",
       "      <td>Charles.Jackson@email.com</td>\n",
       "      <td>593-500-2937</td>\n",
       "      <td>No.5935 Jackson Lane</td>\n",
       "    </tr>\n",
       "    <tr>\n",
       "      <th>1</th>\n",
       "      <td>CHARLES</td>\n",
       "      <td>JACKSON</td>\n",
       "      <td>Charles.Jackson@email.com</td>\n",
       "      <td>5935002937</td>\n",
       "      <td>#5935 Jackson Lane</td>\n",
       "    </tr>\n",
       "    <tr>\n",
       "      <th>2</th>\n",
       "      <td>CHARLES</td>\n",
       "      <td>jackson</td>\n",
       "      <td>Charles.Jackson@email.com</td>\n",
       "      <td>5935002937</td>\n",
       "      <td>5935 Jackson Lane</td>\n",
       "    </tr>\n",
       "    <tr>\n",
       "      <th>3</th>\n",
       "      <td>Louise</td>\n",
       "      <td>Anderson</td>\n",
       "      <td>Louise.Anderson@email.com</td>\n",
       "      <td>786-790-6529</td>\n",
       "      <td>No.7867 Anderson Lane</td>\n",
       "    </tr>\n",
       "    <tr>\n",
       "      <th>4</th>\n",
       "      <td>Sarah</td>\n",
       "      <td>Rodriguez</td>\n",
       "      <td>Sarah.Rodriguez@email.com</td>\n",
       "      <td>844-187-5552</td>\n",
       "      <td>No.8441 Rodriguez Lane</td>\n",
       "    </tr>\n",
       "  </tbody>\n",
       "</table>\n",
       "</div>"
      ],
      "text/plain": [
       "  FirstName   LastName                       Email         Phone  \\\n",
       "0   Charles    Jackson   Charles.Jackson@email.com  593-500-2937   \n",
       "1   CHARLES    JACKSON   Charles.Jackson@email.com    5935002937   \n",
       "2  CHARLES     jackson  Charles.Jackson@email.com     5935002937   \n",
       "3    Louise   Anderson   Louise.Anderson@email.com  786-790-6529   \n",
       "4     Sarah  Rodriguez   Sarah.Rodriguez@email.com  844-187-5552   \n",
       "\n",
       "                  Address  \n",
       "0    No.5935 Jackson Lane  \n",
       "1      #5935 Jackson Lane  \n",
       "2       5935 Jackson Lane  \n",
       "3   No.7867 Anderson Lane  \n",
       "4  No.8441 Rodriguez Lane  "
      ]
     },
     "execution_count": 3,
     "metadata": {},
     "output_type": "execute_result"
    }
   ],
   "source": [
    "# Q1\n",
    "import pandas as pd\n",
    "\n",
    "# open people_2\n",
    "People2 = pd.read_table('people_2.txt')\n",
    "People2.head()\n"
   ]
  },
  {
   "cell_type": "code",
   "execution_count": 8,
   "id": "a0d39dbc",
   "metadata": {},
   "outputs": [
    {
     "ename": "NameError",
     "evalue": "name 'People1' is not defined",
     "output_type": "error",
     "traceback": [
      "\u001b[0;31m---------------------------------------------------------------------------\u001b[0m",
      "\u001b[0;31mNameError\u001b[0m                                 Traceback (most recent call last)",
      "Input \u001b[0;32mIn [8]\u001b[0m, in \u001b[0;36m<cell line: 4>\u001b[0;34m()\u001b[0m\n\u001b[1;32m      1\u001b[0m \u001b[38;5;28;01mimport\u001b[39;00m \u001b[38;5;21;01mpandas\u001b[39;00m \u001b[38;5;28;01mas\u001b[39;00m \u001b[38;5;21;01mpd\u001b[39;00m\n\u001b[1;32m      3\u001b[0m \u001b[38;5;66;03m#combine 2 files\u001b[39;00m\n\u001b[0;32m----> 4\u001b[0m df\u001b[38;5;241m=\u001b[39m pd\u001b[38;5;241m.\u001b[39mconcat ([\u001b[43mPeople1\u001b[49m, People2])\n",
      "\u001b[0;31mNameError\u001b[0m: name 'People1' is not defined"
     ]
    }
   ],
   "source": [
    "import pandas as pd\n",
    "\n",
    "#combine 2 files\n",
    "df= pd.concat ([People1, People2])"
   ]
  },
  {
   "cell_type": "code",
   "execution_count": 7,
   "id": "29ceef16",
   "metadata": {},
   "outputs": [
    {
     "data": {
      "text/html": [
       "<div>\n",
       "<style scoped>\n",
       "    .dataframe tbody tr th:only-of-type {\n",
       "        vertical-align: middle;\n",
       "    }\n",
       "\n",
       "    .dataframe tbody tr th {\n",
       "        vertical-align: top;\n",
       "    }\n",
       "\n",
       "    .dataframe thead th {\n",
       "        text-align: right;\n",
       "    }\n",
       "</style>\n",
       "<table border=\"1\" class=\"dataframe\">\n",
       "  <thead>\n",
       "    <tr style=\"text-align: right;\">\n",
       "      <th></th>\n",
       "      <th>FirstName</th>\n",
       "      <th>LastName</th>\n",
       "      <th>Email</th>\n",
       "      <th>Phone</th>\n",
       "      <th>Address</th>\n",
       "    </tr>\n",
       "  </thead>\n",
       "  <tbody>\n",
       "    <tr>\n",
       "      <th>0</th>\n",
       "      <td>Matthew</td>\n",
       "      <td>Williams</td>\n",
       "      <td>Matthew.Williams@email.com</td>\n",
       "      <td>053-278-8309</td>\n",
       "      <td>No.0532 Williams Lane</td>\n",
       "    </tr>\n",
       "    <tr>\n",
       "      <th>1</th>\n",
       "      <td>MATTHEW</td>\n",
       "      <td>WILLIAMS</td>\n",
       "      <td>Matthew.Williams@email.com</td>\n",
       "      <td>0532788309</td>\n",
       "      <td>#0532 Williams Lane</td>\n",
       "    </tr>\n",
       "    <tr>\n",
       "      <th>2</th>\n",
       "      <td>MATTHEW</td>\n",
       "      <td>williams</td>\n",
       "      <td>Matthew.Williams@email.com</td>\n",
       "      <td>0532788309</td>\n",
       "      <td>0532 Williams Lane</td>\n",
       "    </tr>\n",
       "    <tr>\n",
       "      <th>3</th>\n",
       "      <td>Louise</td>\n",
       "      <td>Rodriguez</td>\n",
       "      <td>Louise.Rodriguez@email.com</td>\n",
       "      <td>553-981-1593</td>\n",
       "      <td>No.5539 Rodriguez Lane</td>\n",
       "    </tr>\n",
       "    <tr>\n",
       "      <th>4</th>\n",
       "      <td>Charles</td>\n",
       "      <td>Smith</td>\n",
       "      <td>Charles.Smith@email.com</td>\n",
       "      <td>523-381-5730</td>\n",
       "      <td>No.5233 Smith Lane</td>\n",
       "    </tr>\n",
       "  </tbody>\n",
       "</table>\n",
       "</div>"
      ],
      "text/plain": [
       "  FirstName   LastName                        Email         Phone  \\\n",
       "0   Matthew   Williams   Matthew.Williams@email.com  053-278-8309   \n",
       "1   MATTHEW   WILLIAMS   Matthew.Williams@email.com    0532788309   \n",
       "2  MATTHEW    williams  Matthew.Williams@email.com     0532788309   \n",
       "3    Louise  Rodriguez   Louise.Rodriguez@email.com  553-981-1593   \n",
       "4   Charles      Smith      Charles.Smith@email.com  523-381-5730   \n",
       "\n",
       "                  Address  \n",
       "0   No.0532 Williams Lane  \n",
       "1     #0532 Williams Lane  \n",
       "2      0532 Williams Lane  \n",
       "3  No.5539 Rodriguez Lane  \n",
       "4      No.5233 Smith Lane  "
      ]
     },
     "execution_count": 7,
     "metadata": {},
     "output_type": "execute_result"
    }
   ],
   "source": [
    "df.head ()"
   ]
  },
  {
   "cell_type": "code",
   "execution_count": 11,
   "id": "06594dcc",
   "metadata": {},
   "outputs": [],
   "source": [
    "#Capitalize Firstname\n",
    "df['FirstName']= df['FirstName'].str.capitalize()"
   ]
  },
  {
   "cell_type": "code",
   "execution_count": 12,
   "id": "79c833ec",
   "metadata": {},
   "outputs": [
    {
     "data": {
      "text/html": [
       "<div>\n",
       "<style scoped>\n",
       "    .dataframe tbody tr th:only-of-type {\n",
       "        vertical-align: middle;\n",
       "    }\n",
       "\n",
       "    .dataframe tbody tr th {\n",
       "        vertical-align: top;\n",
       "    }\n",
       "\n",
       "    .dataframe thead th {\n",
       "        text-align: right;\n",
       "    }\n",
       "</style>\n",
       "<table border=\"1\" class=\"dataframe\">\n",
       "  <thead>\n",
       "    <tr style=\"text-align: right;\">\n",
       "      <th></th>\n",
       "      <th>FirstName</th>\n",
       "      <th>LastName</th>\n",
       "      <th>Email</th>\n",
       "      <th>Phone</th>\n",
       "      <th>Address</th>\n",
       "    </tr>\n",
       "  </thead>\n",
       "  <tbody>\n",
       "    <tr>\n",
       "      <th>0</th>\n",
       "      <td>Matthew</td>\n",
       "      <td>Williams</td>\n",
       "      <td>Matthew.Williams@email.com</td>\n",
       "      <td>053-278-8309</td>\n",
       "      <td>No.0532 Williams Lane</td>\n",
       "    </tr>\n",
       "    <tr>\n",
       "      <th>1</th>\n",
       "      <td>Matthew</td>\n",
       "      <td>WILLIAMS</td>\n",
       "      <td>Matthew.Williams@email.com</td>\n",
       "      <td>0532788309</td>\n",
       "      <td>#0532 Williams Lane</td>\n",
       "    </tr>\n",
       "    <tr>\n",
       "      <th>2</th>\n",
       "      <td>Matthew</td>\n",
       "      <td>williams</td>\n",
       "      <td>Matthew.Williams@email.com</td>\n",
       "      <td>0532788309</td>\n",
       "      <td>0532 Williams Lane</td>\n",
       "    </tr>\n",
       "    <tr>\n",
       "      <th>3</th>\n",
       "      <td>Louise</td>\n",
       "      <td>Rodriguez</td>\n",
       "      <td>Louise.Rodriguez@email.com</td>\n",
       "      <td>553-981-1593</td>\n",
       "      <td>No.5539 Rodriguez Lane</td>\n",
       "    </tr>\n",
       "    <tr>\n",
       "      <th>4</th>\n",
       "      <td>Charles</td>\n",
       "      <td>Smith</td>\n",
       "      <td>Charles.Smith@email.com</td>\n",
       "      <td>523-381-5730</td>\n",
       "      <td>No.5233 Smith Lane</td>\n",
       "    </tr>\n",
       "  </tbody>\n",
       "</table>\n",
       "</div>"
      ],
      "text/plain": [
       "  FirstName   LastName                        Email         Phone  \\\n",
       "0   Matthew   Williams   Matthew.Williams@email.com  053-278-8309   \n",
       "1   Matthew   WILLIAMS   Matthew.Williams@email.com    0532788309   \n",
       "2  Matthew    williams  Matthew.Williams@email.com     0532788309   \n",
       "3    Louise  Rodriguez   Louise.Rodriguez@email.com  553-981-1593   \n",
       "4   Charles      Smith      Charles.Smith@email.com  523-381-5730   \n",
       "\n",
       "                  Address  \n",
       "0   No.0532 Williams Lane  \n",
       "1     #0532 Williams Lane  \n",
       "2      0532 Williams Lane  \n",
       "3  No.5539 Rodriguez Lane  \n",
       "4      No.5233 Smith Lane  "
      ]
     },
     "execution_count": 12,
     "metadata": {},
     "output_type": "execute_result"
    }
   ],
   "source": [
    "df.head()"
   ]
  },
  {
   "cell_type": "code",
   "execution_count": 13,
   "id": "9af9b430",
   "metadata": {},
   "outputs": [],
   "source": [
    "#caplitalize Lastname\n",
    "df['LastName']= df['LastName'].str.capitalize()"
   ]
  },
  {
   "cell_type": "code",
   "execution_count": 14,
   "id": "bf0e8450",
   "metadata": {},
   "outputs": [
    {
     "data": {
      "text/html": [
       "<div>\n",
       "<style scoped>\n",
       "    .dataframe tbody tr th:only-of-type {\n",
       "        vertical-align: middle;\n",
       "    }\n",
       "\n",
       "    .dataframe tbody tr th {\n",
       "        vertical-align: top;\n",
       "    }\n",
       "\n",
       "    .dataframe thead th {\n",
       "        text-align: right;\n",
       "    }\n",
       "</style>\n",
       "<table border=\"1\" class=\"dataframe\">\n",
       "  <thead>\n",
       "    <tr style=\"text-align: right;\">\n",
       "      <th></th>\n",
       "      <th>FirstName</th>\n",
       "      <th>LastName</th>\n",
       "      <th>Email</th>\n",
       "      <th>Phone</th>\n",
       "      <th>Address</th>\n",
       "    </tr>\n",
       "  </thead>\n",
       "  <tbody>\n",
       "    <tr>\n",
       "      <th>0</th>\n",
       "      <td>Matthew</td>\n",
       "      <td>Williams</td>\n",
       "      <td>Matthew.Williams@email.com</td>\n",
       "      <td>053-278-8309</td>\n",
       "      <td>No.0532 Williams Lane</td>\n",
       "    </tr>\n",
       "    <tr>\n",
       "      <th>1</th>\n",
       "      <td>Matthew</td>\n",
       "      <td>Williams</td>\n",
       "      <td>Matthew.Williams@email.com</td>\n",
       "      <td>0532788309</td>\n",
       "      <td>#0532 Williams Lane</td>\n",
       "    </tr>\n",
       "    <tr>\n",
       "      <th>2</th>\n",
       "      <td>Matthew</td>\n",
       "      <td>Williams</td>\n",
       "      <td>Matthew.Williams@email.com</td>\n",
       "      <td>0532788309</td>\n",
       "      <td>0532 Williams Lane</td>\n",
       "    </tr>\n",
       "    <tr>\n",
       "      <th>3</th>\n",
       "      <td>Louise</td>\n",
       "      <td>Rodriguez</td>\n",
       "      <td>Louise.Rodriguez@email.com</td>\n",
       "      <td>553-981-1593</td>\n",
       "      <td>No.5539 Rodriguez Lane</td>\n",
       "    </tr>\n",
       "    <tr>\n",
       "      <th>4</th>\n",
       "      <td>Charles</td>\n",
       "      <td>Smith</td>\n",
       "      <td>Charles.Smith@email.com</td>\n",
       "      <td>523-381-5730</td>\n",
       "      <td>No.5233 Smith Lane</td>\n",
       "    </tr>\n",
       "  </tbody>\n",
       "</table>\n",
       "</div>"
      ],
      "text/plain": [
       "  FirstName   LastName                        Email         Phone  \\\n",
       "0   Matthew   Williams   Matthew.Williams@email.com  053-278-8309   \n",
       "1   Matthew   Williams   Matthew.Williams@email.com    0532788309   \n",
       "2  Matthew    Williams  Matthew.Williams@email.com     0532788309   \n",
       "3    Louise  Rodriguez   Louise.Rodriguez@email.com  553-981-1593   \n",
       "4   Charles      Smith      Charles.Smith@email.com  523-381-5730   \n",
       "\n",
       "                  Address  \n",
       "0   No.0532 Williams Lane  \n",
       "1     #0532 Williams Lane  \n",
       "2      0532 Williams Lane  \n",
       "3  No.5539 Rodriguez Lane  \n",
       "4      No.5233 Smith Lane  "
      ]
     },
     "execution_count": 14,
     "metadata": {},
     "output_type": "execute_result"
    }
   ],
   "source": [
    "df.head()"
   ]
  },
  {
   "cell_type": "code",
   "execution_count": 6,
   "id": "10594c51",
   "metadata": {
    "scrolled": true
   },
   "outputs": [
    {
     "ename": "NameError",
     "evalue": "name 'df' is not defined",
     "output_type": "error",
     "traceback": [
      "\u001b[0;31m---------------------------------------------------------------------------\u001b[0m",
      "\u001b[0;31mNameError\u001b[0m                                 Traceback (most recent call last)",
      "Input \u001b[0;32mIn [6]\u001b[0m, in \u001b[0;36m<cell line: 1>\u001b[0;34m()\u001b[0m\n\u001b[0;32m----> 1\u001b[0m \u001b[43mdf\u001b[49m\u001b[38;5;241m.\u001b[39mhead()\n",
      "\u001b[0;31mNameError\u001b[0m: name 'df' is not defined"
     ]
    }
   ],
   "source": [
    "df.head()"
   ]
  },
  {
   "cell_type": "code",
   "execution_count": 30,
   "id": "558f99a8",
   "metadata": {},
   "outputs": [],
   "source": [
    "#formating phonenumber\n",
    "df['Phone']= df['Phone'].str.replace('-', '')"
   ]
  },
  {
   "cell_type": "code",
   "execution_count": 31,
   "id": "0011cd8b",
   "metadata": {},
   "outputs": [
    {
     "data": {
      "text/html": [
       "<div>\n",
       "<style scoped>\n",
       "    .dataframe tbody tr th:only-of-type {\n",
       "        vertical-align: middle;\n",
       "    }\n",
       "\n",
       "    .dataframe tbody tr th {\n",
       "        vertical-align: top;\n",
       "    }\n",
       "\n",
       "    .dataframe thead th {\n",
       "        text-align: right;\n",
       "    }\n",
       "</style>\n",
       "<table border=\"1\" class=\"dataframe\">\n",
       "  <thead>\n",
       "    <tr style=\"text-align: right;\">\n",
       "      <th></th>\n",
       "      <th>FirstName</th>\n",
       "      <th>LastName</th>\n",
       "      <th>Email</th>\n",
       "      <th>Phone</th>\n",
       "      <th>Address</th>\n",
       "    </tr>\n",
       "  </thead>\n",
       "  <tbody>\n",
       "    <tr>\n",
       "      <th>0</th>\n",
       "      <td>Matthew</td>\n",
       "      <td>Williams</td>\n",
       "      <td>matthew.williams@email.com</td>\n",
       "      <td>0532788309</td>\n",
       "      <td>0532 Williams Lane</td>\n",
       "    </tr>\n",
       "    <tr>\n",
       "      <th>1</th>\n",
       "      <td>Matthew</td>\n",
       "      <td>Williams</td>\n",
       "      <td>matthew.williams@email.com</td>\n",
       "      <td>0532788309</td>\n",
       "      <td>0532 Williams Lane</td>\n",
       "    </tr>\n",
       "    <tr>\n",
       "      <th>2</th>\n",
       "      <td>Matthew</td>\n",
       "      <td>Williams</td>\n",
       "      <td>matthew.williams@email.com</td>\n",
       "      <td>0532788309</td>\n",
       "      <td>0532 Williams Lane</td>\n",
       "    </tr>\n",
       "    <tr>\n",
       "      <th>3</th>\n",
       "      <td>Louise</td>\n",
       "      <td>Rodriguez</td>\n",
       "      <td>louise.rodriguez@email.com</td>\n",
       "      <td>5539811593</td>\n",
       "      <td>5539 Rodriguez Lane</td>\n",
       "    </tr>\n",
       "    <tr>\n",
       "      <th>4</th>\n",
       "      <td>Charles</td>\n",
       "      <td>Smith</td>\n",
       "      <td>charles.smith@email.com</td>\n",
       "      <td>5233815730</td>\n",
       "      <td>5233 Smith Lane</td>\n",
       "    </tr>\n",
       "  </tbody>\n",
       "</table>\n",
       "</div>"
      ],
      "text/plain": [
       "  FirstName   LastName                        Email       Phone  \\\n",
       "0   Matthew   Williams   matthew.williams@email.com  0532788309   \n",
       "1   Matthew   Williams   matthew.williams@email.com  0532788309   \n",
       "2  Matthew    Williams  matthew.williams@email.com   0532788309   \n",
       "3    Louise  Rodriguez   louise.rodriguez@email.com  5539811593   \n",
       "4   Charles      Smith      charles.smith@email.com  5233815730   \n",
       "\n",
       "               Address  \n",
       "0   0532 Williams Lane  \n",
       "1   0532 Williams Lane  \n",
       "2   0532 Williams Lane  \n",
       "3  5539 Rodriguez Lane  \n",
       "4      5233 Smith Lane  "
      ]
     },
     "execution_count": 31,
     "metadata": {},
     "output_type": "execute_result"
    }
   ],
   "source": [
    "df.head()"
   ]
  },
  {
   "cell_type": "code",
   "execution_count": 9,
   "id": "26f986db",
   "metadata": {},
   "outputs": [
    {
     "ename": "NameError",
     "evalue": "name 'df' is not defined",
     "output_type": "error",
     "traceback": [
      "\u001b[0;31m---------------------------------------------------------------------------\u001b[0m",
      "\u001b[0;31mNameError\u001b[0m                                 Traceback (most recent call last)",
      "Input \u001b[0;32mIn [9]\u001b[0m, in \u001b[0;36m<cell line: 2>\u001b[0;34m()\u001b[0m\n\u001b[1;32m      1\u001b[0m \u001b[38;5;66;03m#formating email\u001b[39;00m\n\u001b[0;32m----> 2\u001b[0m df[\u001b[38;5;124m'\u001b[39m\u001b[38;5;124mEmail\u001b[39m\u001b[38;5;124m'\u001b[39m]\u001b[38;5;241m=\u001b[39m \u001b[43mdf\u001b[49m[\u001b[38;5;124m'\u001b[39m\u001b[38;5;124mEmail\u001b[39m\u001b[38;5;124m'\u001b[39m]\u001b[38;5;241m.\u001b[39mstr\u001b[38;5;241m.\u001b[39mlower()\n",
      "\u001b[0;31mNameError\u001b[0m: name 'df' is not defined"
     ]
    }
   ],
   "source": [
    "#formating email\n",
    "df['Email']= df['Email'].str.lower()"
   ]
  },
  {
   "cell_type": "code",
   "execution_count": 4,
   "id": "edfe83fa",
   "metadata": {},
   "outputs": [
    {
     "ename": "NameError",
     "evalue": "name 'df' is not defined",
     "output_type": "error",
     "traceback": [
      "\u001b[0;31m---------------------------------------------------------------------------\u001b[0m",
      "\u001b[0;31mNameError\u001b[0m                                 Traceback (most recent call last)",
      "Input \u001b[0;32mIn [4]\u001b[0m, in \u001b[0;36m<cell line: 2>\u001b[0;34m()\u001b[0m\n\u001b[1;32m      1\u001b[0m \u001b[38;5;66;03m#formating Address\u001b[39;00m\n\u001b[0;32m----> 2\u001b[0m df[\u001b[38;5;124m'\u001b[39m\u001b[38;5;124mAddress\u001b[39m\u001b[38;5;124m'\u001b[39m]\u001b[38;5;241m=\u001b[39m \u001b[43mdf\u001b[49m[\u001b[38;5;124m'\u001b[39m\u001b[38;5;124mAddress\u001b[39m\u001b[38;5;124m'\u001b[39m]\u001b[38;5;241m.\u001b[39mstr\u001b[38;5;241m.\u001b[39mreplace(\u001b[38;5;124m'\u001b[39m\u001b[38;5;124mNo\u001b[39m\u001b[38;5;124m'\u001b[39m, \u001b[38;5;124m'\u001b[39m\u001b[38;5;124m'\u001b[39m)\n",
      "\u001b[0;31mNameError\u001b[0m: name 'df' is not defined"
     ]
    }
   ],
   "source": [
    "#formating Address\n",
    "df['Address']= df['Address'].str.replace('No', '')\n"
   ]
  },
  {
   "cell_type": "code",
   "execution_count": 5,
   "id": "7a133067",
   "metadata": {},
   "outputs": [
    {
     "ename": "NameError",
     "evalue": "name 'df' is not defined",
     "output_type": "error",
     "traceback": [
      "\u001b[0;31m---------------------------------------------------------------------------\u001b[0m",
      "\u001b[0;31mNameError\u001b[0m                                 Traceback (most recent call last)",
      "Input \u001b[0;32mIn [5]\u001b[0m, in \u001b[0;36m<cell line: 1>\u001b[0;34m()\u001b[0m\n\u001b[0;32m----> 1\u001b[0m \u001b[43mdf\u001b[49m\u001b[38;5;241m.\u001b[39mhead()\n",
      "\u001b[0;31mNameError\u001b[0m: name 'df' is not defined"
     ]
    }
   ],
   "source": [
    "df.head()"
   ]
  },
  {
   "cell_type": "code",
   "execution_count": 4,
   "id": "40a027b0",
   "metadata": {},
   "outputs": [
    {
     "ename": "NameError",
     "evalue": "name 'df' is not defined",
     "output_type": "error",
     "traceback": [
      "\u001b[0;31m---------------------------------------------------------------------------\u001b[0m",
      "\u001b[0;31mNameError\u001b[0m                                 Traceback (most recent call last)",
      "Input \u001b[0;32mIn [4]\u001b[0m, in \u001b[0;36m<cell line: 3>\u001b[0;34m()\u001b[0m\n\u001b[1;32m      1\u001b[0m \u001b[38;5;28;01mimport\u001b[39;00m \u001b[38;5;21;01mnumpy\u001b[39;00m \u001b[38;5;28;01mas\u001b[39;00m \u001b[38;5;21;01mnp\u001b[39;00m\n\u001b[1;32m      2\u001b[0m \u001b[38;5;66;03m#drop duplicates \u001b[39;00m\n\u001b[0;32m----> 3\u001b[0m df3 \u001b[38;5;241m=\u001b[39m \u001b[43mdf\u001b[49m\u001b[38;5;241m.\u001b[39mdrop_duplicates(inplace\u001b[38;5;241m=\u001b[39m\u001b[38;5;28;01mFalse\u001b[39;00m)\n\u001b[1;32m      4\u001b[0m df3\u001b[38;5;241m.\u001b[39mindex \u001b[38;5;241m=\u001b[39m np\u001b[38;5;241m.\u001b[39marange(\u001b[38;5;241m0\u001b[39m, \u001b[38;5;28mlen\u001b[39m(df))\n\u001b[1;32m      5\u001b[0m df3\n",
      "\u001b[0;31mNameError\u001b[0m: name 'df' is not defined"
     ]
    }
   ],
   "source": [
    "import numpy as np\n",
    "#drop duplicates \n",
    "df2 = df.drop_duplicates(inplace=False)\n",
    "df2.index = np.arange(0, len(df))\n",
    "df2.head()"
   ]
  },
  {
   "cell_type": "code",
   "execution_count": null,
   "id": "14f8fc1a",
   "metadata": {},
   "outputs": [],
   "source": [
    "# import as CSV\n",
    "df3.to_csv ('Newfile.csv', index=False)"
   ]
  },
  {
   "cell_type": "code",
   "execution_count": 10,
   "id": "c29e741a",
   "metadata": {},
   "outputs": [
    {
     "ename": "IndentationError",
     "evalue": "unexpected indent (816051844.py, line 4)",
     "output_type": "error",
     "traceback": [
      "\u001b[0;36m  Input \u001b[0;32mIn [10]\u001b[0;36m\u001b[0m\n\u001b[0;31m    with open('movie.json','r', encoding='utf-8') as f1:\u001b[0m\n\u001b[0m    ^\u001b[0m\n\u001b[0;31mIndentationError\u001b[0m\u001b[0;31m:\u001b[0m unexpected indent\n"
     ]
    }
   ],
   "source": [
    "import json\n",
    "\n",
    "    #you need to add you path here\n",
    "    with open('movie.json','r', encoding='utf-8') as f1:\n",
    "        ll = [json.loads(line.strip()) for line in f1.readlines()]\n",
    "\n",
    "        #this is the total length size of the json file\n",
    "        print(len(ll)) #9999 movies\n",
    "\n",
    "        size_of_the_split=8\n",
    "        total = len(ll) // size_of_the_split\n",
    "\n",
    "        #in here you will get the Number of splits\n",
    "        print(total+1)\n",
    "\n",
    "        for i in range(total+1):\n",
    "            json.dump(ll[i * size_of_the_split:(i + 1) * size_of_the_split], open(\n",
    "                'Json_Split' + str(i+1) + '.json' , 'w',\n",
    "                encoding='utf8'), ensure_ascii=False, indent=True)"
   ]
  },
  {
   "cell_type": "code",
   "execution_count": null,
   "id": "c7cefbf9",
   "metadata": {},
   "outputs": [],
   "source": []
  }
 ],
 "metadata": {
  "kernelspec": {
   "display_name": "Python 3 (ipykernel)",
   "language": "python",
   "name": "python3"
  },
  "language_info": {
   "codemirror_mode": {
    "name": "ipython",
    "version": 3
   },
   "file_extension": ".py",
   "mimetype": "text/x-python",
   "name": "python",
   "nbconvert_exporter": "python",
   "pygments_lexer": "ipython3",
   "version": "3.9.12"
  },
  "vscode": {
   "interpreter": {
    "hash": "aee8b7b246df8f9039afb4144a1f6fd8d2ca17a180786b69acc140d282b71a49"
   }
  }
 },
 "nbformat": 4,
 "nbformat_minor": 5
}
